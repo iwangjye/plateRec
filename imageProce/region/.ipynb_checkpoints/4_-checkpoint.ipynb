{
 "cells": [
  {
   "cell_type": "code",
   "execution_count": null,
   "metadata": {
    "collapsed": true
   },
   "outputs": [],
   "source": [
    "##需要在python3环境运行"
   ]
  },
  {
   "cell_type": "code",
   "execution_count": 3,
   "metadata": {
    "collapsed": true
   },
   "outputs": [],
   "source": [
    "# _letter_cases = 'abcdefghjklmnpqrstuvwxy' \n",
    "# _upper_cases = _letter_cases.upper() \n",
    "_regions = '京津沪渝冀豫云辽黑湘皖闽鲁新苏浙赣鄂桂甘晋蒙陕吉贵粤青藏川宁琼'\n",
    "#_numbers = ''.join(map(str, range(0, 10))) \n",
    "init_chars = ''.join((_regions))"
   ]
  },
  {
   "cell_type": "code",
   "execution_count": 4,
   "metadata": {},
   "outputs": [
    {
     "name": "stdout",
     "output_type": "stream",
     "text": [
      "(0, '\\xe4')\n",
      "(1, '\\xba')\n",
      "(2, '\\xac')\n",
      "(3, '\\xe6')\n",
      "(4, '\\xb4')\n",
      "(5, '\\xa5')\n",
      "(6, '\\xe6')\n",
      "(7, '\\xb2')\n",
      "(8, '\\xaa')\n",
      "(9, '\\xe6')\n",
      "(10, '\\xb8')\n",
      "(11, '\\x9d')\n",
      "(12, '\\xe5')\n",
      "(13, '\\x86')\n",
      "(14, '\\x80')\n",
      "(15, '\\xe8')\n",
      "(16, '\\xb1')\n",
      "(17, '\\xab')\n",
      "(18, '\\xe4')\n",
      "(19, '\\xba')\n",
      "(20, '\\x91')\n",
      "(21, '\\xe8')\n",
      "(22, '\\xbe')\n",
      "(23, '\\xbd')\n",
      "(24, '\\xe9')\n",
      "(25, '\\xbb')\n",
      "(26, '\\x91')\n",
      "(27, '\\xe6')\n",
      "(28, '\\xb9')\n",
      "(29, '\\x98')\n",
      "(30, '\\xe7')\n",
      "(31, '\\x9a')\n",
      "(32, '\\x96')\n",
      "(33, '\\xe9')\n",
      "(34, '\\x97')\n",
      "(35, '\\xbd')\n",
      "(36, '\\xe9')\n",
      "(37, '\\xb2')\n",
      "(38, '\\x81')\n",
      "(39, '\\xe6')\n",
      "(40, '\\x96')\n",
      "(41, '\\xb0')\n",
      "(42, '\\xe8')\n",
      "(43, '\\x8b')\n",
      "(44, '\\x8f')\n",
      "(45, '\\xe6')\n",
      "(46, '\\xb5')\n",
      "(47, '\\x99')\n",
      "(48, '\\xe8')\n",
      "(49, '\\xb5')\n",
      "(50, '\\xa3')\n",
      "(51, '\\xe9')\n",
      "(52, '\\x84')\n",
      "(53, '\\x82')\n",
      "(54, '\\xe6')\n",
      "(55, '\\xa1')\n",
      "(56, '\\x82')\n",
      "(57, '\\xe7')\n",
      "(58, '\\x94')\n",
      "(59, '\\x98')\n",
      "(60, '\\xe6')\n",
      "(61, '\\x99')\n",
      "(62, '\\x8b')\n",
      "(63, '\\xe8')\n",
      "(64, '\\x92')\n",
      "(65, '\\x99')\n",
      "(66, '\\xe9')\n",
      "(67, '\\x99')\n",
      "(68, '\\x95')\n",
      "(69, '\\xe5')\n",
      "(70, '\\x90')\n",
      "(71, '\\x89')\n",
      "(72, '\\xe8')\n",
      "(73, '\\xb4')\n",
      "(74, '\\xb5')\n",
      "(75, '\\xe7')\n",
      "(76, '\\xb2')\n",
      "(77, '\\xa4')\n",
      "(78, '\\xe9')\n",
      "(79, '\\x9d')\n",
      "(80, '\\x92')\n",
      "(81, '\\xe8')\n",
      "(82, '\\x97')\n",
      "(83, '\\x8f')\n",
      "(84, '\\xe5')\n",
      "(85, '\\xb7')\n",
      "(86, '\\x9d')\n",
      "(87, '\\xe5')\n",
      "(88, '\\xae')\n",
      "(89, '\\x81')\n",
      "(90, '\\xe7')\n",
      "(91, '\\x90')\n",
      "(92, '\\xbc')\n"
     ]
    }
   ],
   "source": [
    "if __name__ == '__main__':\n",
    "    base_path = '/workspace/plateRec/region/'\n",
    "    num_dir = 31\n",
    "    num_pic = 13\n",
    "    with open(base_path+'train.txt', mode='w') as f:\n",
    "        for j in range(num_pic):\n",
    "            for i in range(num_dir):\n",
    "                f.write('images/'+str(i)+'/'+str(j)+'.jpg'+' '+str(i)+'\\n')\n",
    "                \n",
    "    with open(base_path+'test.txt', mode='w') as f:\n",
    "        for j in range(int(num_pic/2)):\n",
    "            for i in range(num_dir):\n",
    "                f.write('images/'+str(i)+'/'+str(j)+'.jpg'+' '+str(i)+'\\n')\n",
    "    \n",
    "    with open(base_path+'y_tag.json', mode='w') as f:\n",
    "        f.write('{')\n",
    "        for i, c in enumerate(init_chars):\n",
    "            print(i, c)\n",
    "            a = hex(ord(c)).replace('0x','\\\\u')\n",
    "            if i != num_dir-1:\n",
    "                f.write('\"'+str(i)+'\": '+'\"'+a+'\", ')\n",
    "            else:\n",
    "                f.write('\"'+str(i)+'\": '+'\"'+a+'\"')\n",
    "        f.write('}')\n",
    "\n",
    "    with open(base_path+'y_tag.txt', mode='w') as f:\n",
    "        for i, c in enumerate(init_chars):\n",
    "                f.write(str(i)+' '+c)"
   ]
  },
  {
   "cell_type": "code",
   "execution_count": null,
   "metadata": {
    "collapsed": true
   },
   "outputs": [],
   "source": []
  }
 ],
 "metadata": {
  "kernelspec": {
   "display_name": "Python 2",
   "language": "python",
   "name": "python2"
  },
  "language_info": {
   "codemirror_mode": {
    "name": "ipython",
    "version": 2
   },
   "file_extension": ".py",
   "mimetype": "text/x-python",
   "name": "python",
   "nbconvert_exporter": "python",
   "pygments_lexer": "ipython2",
   "version": "2.7.6"
  }
 },
 "nbformat": 4,
 "nbformat_minor": 2
}
