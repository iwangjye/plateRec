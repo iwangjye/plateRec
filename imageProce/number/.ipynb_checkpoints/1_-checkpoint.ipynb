{
 "cells": [
  {
   "cell_type": "code",
   "execution_count": 1,
   "metadata": {
    "collapsed": true
   },
   "outputs": [],
   "source": [
    "from PIL import Image,ImageDraw, ImageFont, ImageFilter \n",
    "import random\n",
    "import os\n"
   ]
  },
  {
   "cell_type": "code",
   "execution_count": 2,
   "metadata": {
    "collapsed": true
   },
   "outputs": [],
   "source": [
    "_letter_cases = 'abcdefghjklmnpqrstuvwxyz' \n",
    "_upper_cases = _letter_cases.upper() \n",
    "#_regions = '京津沪渝冀豫云辽黑湘皖闽鲁新苏浙赣鄂桂甘晋蒙陕吉贵粤青藏川宁琼'\n",
    "_numbers = ''.join(map(str, range(0, 10))) \n",
    "init_chars = ''.join((_numbers, _upper_cases)) \n",
    "\n",
    "def creat_validata_code(size=(32,32),chars=init_chars,img_type='jpg', \n",
    "                        mode='RGB',bg_color=(0,0,0),fg_color=(255,255,255), \n",
    "                            font_size=25,font_type='plate.ttf', \n",
    "                            length=4,draw_lines=True,n_line=(1,2), \n",
    "                            draw_points=True,point_chance=2): \n",
    "    width,height = size\n",
    "    img = Image.new(mode, size, bg_color)\n",
    "    draw = ImageDraw.Draw(img) \n",
    "     \n",
    "    def get_chars(): \n",
    "        return random.sample(chars,length) \n",
    "    \n",
    "    def creat_line(): \n",
    "        line_num = random.randint(*n_line)#sign that the param is a list \n",
    "         \n",
    "        for i in range(line_num): \n",
    "            begin = (random.randint(0, size[0]), random.randint(0, size[1])) \n",
    "            end = (random.randint(0, size[0]), random.randint(0, size[1])) \n",
    "            draw.line([begin, end], fill=(0, 0, 0)) \n",
    " \n",
    "    def create_points(): \n",
    "        chance = min(100, max(0, int(point_chance))) \n",
    "        for w in range(width): \n",
    "            for h in range(height): \n",
    "                tmp = random.randint(0, 100) \n",
    "                if tmp > 100 - chance: \n",
    "                    draw.point((w, h), fill=(0, 0, 0)) \n",
    "  \n",
    "    def create_strs(): \n",
    "        c_chars = get_chars() \n",
    "        strs = ' %s ' % ' '.join(c_chars) \n",
    "        font = ImageFont.truetype(font_type, font_size) \n",
    "        font_width, font_height = font.getsize(strs)\n",
    "        print(width,height)\n",
    "        print(font_width,font_height) \n",
    "        #draw.text(((width - font_width)/2, (height - font_height)/2), \n",
    "                    #strs, font=font, fill=fg_color)\n",
    "        draw.text((0, 0), strs, font=font, fill=fg_color) \n",
    "        return ''.join(c_chars) \n",
    "\n",
    "    if draw_lines: \n",
    "        creat_line() \n",
    "    if draw_points: \n",
    "        create_points() \n",
    "    strs = create_strs() \n",
    " \n",
    "    params = [1 - float(random.randint(1, 2)) / 100, \n",
    "             0, \n",
    "             0, \n",
    "             0, \n",
    "             1 - float(random.randint(1, 10)) / 100, \n",
    "             float(random.randint(1, 2)) / 500, \n",
    "             0.001, \n",
    "             float(random.randint(1, 2)) / 500 \n",
    "             ] \n",
    "    #img = img.transform(size, Image.PERSPECTIVE, params) \n",
    "    #img = img.filter(ImageFilter.EDGE_ENHANCE_MORE) \n",
    "    return img, strs \n",
    " \n"
   ]
  },
  {
   "cell_type": "code",
   "execution_count": 3,
   "metadata": {},
   "outputs": [
    {
     "ename": "OSError",
     "evalue": "[Errno 2] No such file or directory: '/workspace/plateRec/nuber/raw_images'",
     "output_type": "error",
     "traceback": [
      "\u001b[0;31m---------------------------------------------------------------------------\u001b[0m",
      "\u001b[0;31mOSError\u001b[0m                                   Traceback (most recent call last)",
      "\u001b[0;32m<ipython-input-3-563d6df629dc>\u001b[0m in \u001b[0;36m<module>\u001b[0;34m()\u001b[0m\n\u001b[1;32m      2\u001b[0m     \u001b[0mi\u001b[0m \u001b[0;34m=\u001b[0m \u001b[0;36m0\u001b[0m\u001b[0;34m\u001b[0m\u001b[0m\n\u001b[1;32m      3\u001b[0m     \u001b[0mfont_type\u001b[0m \u001b[0;34m=\u001b[0m \u001b[0;34m'/opt/plateRec/data/fonts/plate.ttf'\u001b[0m\u001b[0;34m\u001b[0m\u001b[0m\n\u001b[0;32m----> 4\u001b[0;31m     \u001b[0mos\u001b[0m\u001b[0;34m.\u001b[0m\u001b[0mmkdir\u001b[0m\u001b[0;34m(\u001b[0m\u001b[0;34m'/workspace/plateRec/nuber/raw_images'\u001b[0m\u001b[0;34m)\u001b[0m\u001b[0;34m\u001b[0m\u001b[0m\n\u001b[0m\u001b[1;32m      5\u001b[0m     \u001b[0;32mfor\u001b[0m \u001b[0mc\u001b[0m \u001b[0;32min\u001b[0m \u001b[0minit_chars\u001b[0m\u001b[0;34m:\u001b[0m\u001b[0;34m\u001b[0m\u001b[0m\n\u001b[1;32m      6\u001b[0m         code_img,capacha_code= creat_validata_code(size=(130,130),\n",
      "\u001b[0;31mOSError\u001b[0m: [Errno 2] No such file or directory: '/workspace/plateRec/nuber/raw_images'"
     ]
    }
   ],
   "source": [
    "if __name__ == '__main__':\n",
    "    i = 0\n",
    "    font_type = '/opt/plateRec/data/fonts/plate.ttf'\n",
    "    os.mkdir('/workspace/plateRec/number/raw_images')\n",
    "    for c in init_chars:\n",
    "        code_img,capacha_code= creat_validata_code(size=(130,130),\n",
    "                        chars=c,length=1,font_size=100,\n",
    "                        draw_lines=False,draw_points=False,font_type=font_type)\n",
    "        code_img.save('/workspace/plateRec/number/raw_images/'+str(i)+'.jpg','JPEG')\n",
    "        i+=1\n",
    "    #code_img,capacha_code= creat_validata_code() \n",
    "    #code_img.save('xx.jpg','JPEG')"
   ]
  },
  {
   "cell_type": "code",
   "execution_count": null,
   "metadata": {
    "collapsed": true
   },
   "outputs": [],
   "source": []
  }
 ],
 "metadata": {
  "kernelspec": {
   "display_name": "Python 2",
   "language": "python",
   "name": "python2"
  },
  "language_info": {
   "codemirror_mode": {
    "name": "ipython",
    "version": 2
   },
   "file_extension": ".py",
   "mimetype": "text/x-python",
   "name": "python",
   "nbconvert_exporter": "python",
   "pygments_lexer": "ipython2",
   "version": "2.7.6"
  }
 },
 "nbformat": 4,
 "nbformat_minor": 2
}
