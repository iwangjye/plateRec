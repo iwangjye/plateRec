{
 "cells": [
  {
   "cell_type": "code",
   "execution_count": 1,
   "metadata": {
    "collapsed": true
   },
   "outputs": [],
   "source": [
    "import matplotlib.pyplot as plt\n",
    "from PIL import Image,ImageDraw, ImageFilter \n",
    "import random "
   ]
  },
  {
   "cell_type": "code",
   "execution_count": 2,
   "metadata": {
    "collapsed": true
   },
   "outputs": [],
   "source": [
    "def create_points(draw, width=64, height=64, chance=5): \n",
    "        # chance = min(100, max(0, int(point_chance)))\n",
    "        for i in range(chance):\n",
    "            w = random.randint(0,width)\n",
    "            h = random.randint(0, height)\n",
    "            draw.point((w,h), fill=255)\n",
    "                    \n",
    "def creat_line(draw, size=(64,64), n_line=(1,2)): \n",
    "        line_num = random.randint(*n_line)#sign that the param is a list \n",
    "         \n",
    "        for i in range(line_num): \n",
    "            begin = (random.randint(0, size[0]), random.randint(0, size[1])) \n",
    "            end = (random.randint(0, size[0]), random.randint(0, size[1])) \n",
    "            draw.line([begin, end], fill=255)"
   ]
  },
  {
   "cell_type": "code",
   "execution_count": 3,
   "metadata": {
    "scrolled": true
   },
   "outputs": [
    {
     "name": "stdout",
     "output_type": "stream",
     "text": [
      "(64, 64)\n",
      "(64, 64)\n",
      "(64, 64)\n",
      "(64, 64)\n",
      "(64, 64)\n",
      "(64, 64)\n",
      "(64, 64)\n",
      "(64, 64)\n",
      "(64, 64)\n",
      "(64, 64)\n",
      "(64, 64)\n",
      "(64, 64)\n",
      "(64, 64)\n",
      "(64, 64)\n",
      "(64, 64)\n",
      "(64, 64)\n",
      "(64, 64)\n",
      "(64, 64)\n",
      "(64, 64)\n",
      "(64, 64)\n",
      "(64, 64)\n",
      "(64, 64)\n",
      "(64, 64)\n",
      "(64, 64)\n",
      "(64, 64)\n",
      "(64, 64)\n",
      "(64, 64)\n",
      "(64, 64)\n",
      "(64, 64)\n",
      "(64, 64)\n",
      "(64, 64)\n",
      "(64, 64)\n",
      "(64, 64)\n"
     ]
    }
   ],
   "source": [
    "if __name__ == '__main__':\n",
    "    base_path = '/workspace/plateRec/number/images/'\n",
    "    num_dir = 34\n",
    "    num_pic = 12\n",
    "    for i in range(num_dir):\n",
    "        raw_color_img = plt.imread(base_path+str(i)+'/0.jpg')\n",
    "        print(raw_color_img.shape)\n",
    "        for j in range(num_pic):\n",
    "            j += 1\n",
    "            img = Image.fromarray(raw_color_img)\n",
    "            angle = random.randint(-5,5)\n",
    "            img = img.rotate(angle)\n",
    "            draw = ImageDraw.Draw(img)\n",
    "            num_point = random.randint(5,12)\n",
    "            \n",
    "            create_points(draw, chance=num_point)\n",
    "            creat_line(draw)\n",
    "            img.save(base_path+str(i)+'/'+str(j)+'.jpg','JPEG')"
   ]
  },
  {
   "cell_type": "code",
   "execution_count": null,
   "metadata": {
    "collapsed": true
   },
   "outputs": [],
   "source": []
  }
 ],
 "metadata": {
  "kernelspec": {
   "display_name": "Python 2",
   "language": "python",
   "name": "python2"
  },
  "language_info": {
   "codemirror_mode": {
    "name": "ipython",
    "version": 2
   },
   "file_extension": ".py",
   "mimetype": "text/x-python",
   "name": "python",
   "nbconvert_exporter": "python",
   "pygments_lexer": "ipython2",
   "version": "2.7.6"
  }
 },
 "nbformat": 4,
 "nbformat_minor": 2
}
