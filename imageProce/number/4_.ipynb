{
 "cells": [
  {
   "cell_type": "code",
   "execution_count": null,
   "metadata": {
    "collapsed": true
   },
   "outputs": [],
   "source": []
  },
  {
   "cell_type": "code",
   "execution_count": 1,
   "metadata": {
    "collapsed": true
   },
   "outputs": [],
   "source": [
    "_letter_cases = 'abcdefghjklmnpqrstuvwxyz' \n",
    "_upper_cases = _letter_cases.upper() \n",
    "#_regions = '京津沪渝冀豫云辽黑湘皖闽鲁新苏浙赣鄂桂甘晋蒙陕吉贵粤青藏川宁琼'\n",
    "_numbers = ''.join(map(str, range(0, 10))) \n",
    "init_chars = ''.join((_numbers, _upper_cases,))"
   ]
  },
  {
   "cell_type": "code",
   "execution_count": 2,
   "metadata": {
    "collapsed": true
   },
   "outputs": [],
   "source": [
    "if __name__ == '__main__':\n",
    "    base_path = '/workspace/plateRec/number/'\n",
    "    num_dir = 34\n",
    "    num_pic = 13\n",
    "    with open(base_path+'train.txt', mode='w') as f:\n",
    "        for j in range(num_pic):\n",
    "            for i in range(num_dir):\n",
    "                f.write('images/'+str(i)+'/'+str(j)+'.jpg'+' '+str(i)+'\\n')\n",
    "                \n",
    "    with open(base_path+'test.txt', mode='w') as f:\n",
    "        for j in range(int(num_pic/2)):\n",
    "            for i in range(num_dir):\n",
    "                f.write('images/'+str(i)+'/'+str(j)+'.jpg'+' '+str(i)+'\\n')\n",
    "    \n",
    "    with open(base_path+'y_tag.json', mode='w') as f:\n",
    "        f.write('{')\n",
    "        for i, c in enumerate(init_chars):\n",
    "            if i != num_dir-1:\n",
    "                f.write('\"'+str(i)+'\": '+'\"'+c+'\", ')\n",
    "            else:\n",
    "                f.write('\"'+str(i)+'\": '+'\"'+c+'\"')\n",
    "        f.write('}')\n",
    "\n",
    "    with open(base_path+'y_tag.txt', mode='w') as f:\n",
    "        for i, c in enumerate(init_chars):\n",
    "                f.write(str(i)+' '+c)\n",
    "\n",
    "\n",
    "    \n",
    "        \n",
    "        "
   ]
  },
  {
   "cell_type": "code",
   "execution_count": null,
   "metadata": {
    "collapsed": true
   },
   "outputs": [],
   "source": []
  }
 ],
 "metadata": {
  "kernelspec": {
   "display_name": "Python 2",
   "language": "python",
   "name": "python2"
  },
  "language_info": {
   "codemirror_mode": {
    "name": "ipython",
    "version": 2
   },
   "file_extension": ".py",
   "mimetype": "text/x-python",
   "name": "python",
   "nbconvert_exporter": "python",
   "pygments_lexer": "ipython2",
   "version": "2.7.6"
  }
 },
 "nbformat": 4,
 "nbformat_minor": 2
}
